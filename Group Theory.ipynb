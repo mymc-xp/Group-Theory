{
 "cells": [
  {
   "cell_type": "markdown",
   "metadata": {},
   "source": [
    "The aim of this code is to both understand group theory and create a framework for exploring group properties.\n",
    "\n",
    "Before constructing the group classes I need to introduce a set wrapper class that adds some usefull functionality and renames some of the default set functions."
   ]
  },
  {
   "cell_type": "code",
   "execution_count": 1,
   "metadata": {},
   "outputs": [],
   "source": [
    "class Set(set):\n",
    "    def __init__(self, elements):\n",
    "        if type(elements) != set and isinstance(elements, set):\n",
    "            elements = elements.elements\n",
    "        self.set_elements(elements)\n",
    "        self.universe = self.elements.copy()\n",
    "    def __str__(self):\n",
    "        return(self.elements.__str__())\n",
    "    def __iter__(self):\n",
    "        return self.elements.__iter__()\n",
    "    def __len__(self):\n",
    "        return self.elements.__len__()\n",
    "    def __eq__(self, other):\n",
    "        if type(other) == list:\n",
    "            other = set(other)\n",
    "        if type(other) == set:\n",
    "            return self.elements == other\n",
    "        elif type(other) == type(self):\n",
    "            print(type(self))\n",
    "            return self.elements == other.elements\n",
    "        else:\n",
    "            print(\"= error\")\n",
    "    def set_elements(self, elements):#\n",
    "        self.elements = set(elements.copy())\n",
    "    def share_universe(self, other):#adds elements from another and syncs universe\n",
    "        self.universe.update(other.elements)\n",
    "        other.__set_universe(self.universe)\n",
    "    def __set_universe(self, u):#assigns the same set, not a copy\n",
    "        self.universe = u\n",
    "    def same_universe(self, other):\n",
    "        return self.universe == other.universe\n",
    "    def add(self, *args):#eqivalent to .add() set method, but optimized for the class\n",
    "        for a in args:\n",
    "            if type(a) == type(self):\n",
    "                self.elements.update(a.elements)\n",
    "            elif type(a) == set:\n",
    "                self.elements.update(a)\n",
    "            else:\n",
    "                self.elements.add(a)\n",
    "    def remove(self, e):\n",
    "        self.elements.remove(e)\n",
    "    def build_subset(self, predicate):#returns a filtered set, which is a subset \n",
    "        #should add a map function later\n",
    "        #may add functionality where a subset is created with its universe set to the one that generates it\n",
    "        return Set([x for x in self.elements if predicate(x)])\n",
    "    def subset_of(self, other):#.issubset() \n",
    "        return len([x for x in self if x in other]) == len(self)\n",
    "    def union(self, *args):#.union() python | operate or .update() with modification\n",
    "        combination = self.elements.copy()\n",
    "        for a in args:\n",
    "            combination.update(a)\n",
    "        return Set(combination)\n",
    "    def __or__(self, other):\n",
    "        return self.union(other)\n",
    "    def intersect(self, *args):#.intersection() in python\n",
    "        sect = None\n",
    "        for a in args:\n",
    "            sect = self.build_subset(lambda e : e in a)\n",
    "        return sect\n",
    "    def __and__(self, other):\n",
    "        return self.intersect(other)\n",
    "    def disjoint(self, other):#.isdisjoint() in python\n",
    "        return self.intersect(other) == set()#empty set\n",
    "    def subtract(self, other):#difference\n",
    "        return self.build_subset(lambda e: e not in other)\n",
    "    def complement(self):\n",
    "        return Set(self.universe).subtract(self)\n",
    "    def __p(self, s):#got from some wiki don't remember where\n",
    "        s = list(s)\n",
    "        if s==[]: # base case\n",
    "            return [s] # if s is empty, then the only sublist of s is s itself\n",
    "        else:\n",
    "            e = s[0] # any e from s (in this implementation, we choose the first e)\n",
    "            t = s[1:] # s with e removed\n",
    "            pt = self.__p(t) # the list of all sublists of t (note that this is a recursive call)\n",
    "            fept = [x + [e] for x in pt] # pt with e appended to each sublist\n",
    "            return pt + fept # the concatenation of all constructed sublists\n",
    "    def power_set(self):#returns a list of sets otherwise have to deal with frozensets witch can't be check directly with in frozenset\n",
    "        return [x for x in self.__p(self.elements)]\n",
    "    def set_product(self, other):\n",
    "        product = set()\n",
    "        for x in self.elements():\n",
    "            for y in self.elements():\n",
    "                product.add((x, y))\n",
    "        return product\n",
    "    "
   ]
  },
  {
   "cell_type": "code",
   "execution_count": 2,
   "metadata": {},
   "outputs": [
    {
     "name": "stdout",
     "output_type": "stream",
     "text": [
      "universe test:\n",
      "universe of A: {1, 2, 3}\n",
      "universe of A or B: {1, 2, 3, 4}\n"
     ]
    }
   ],
   "source": [
    "A = Set({1,2,3})\n",
    "B = Set({3,1,1,4})\n",
    "print(\"universe test:\")\n",
    "print(\"universe of A:\", A.universe)\n",
    "B.share_universe(A)\n",
    "print(\"universe of A or B:\", A.universe)"
   ]
  },
  {
   "cell_type": "markdown",
   "metadata": {},
   "source": [
    "Now I'm writing the classes for and related to groups, I may retroactively add functionality to the set class to generate the following under a given operation."
   ]
  },
  {
   "cell_type": "code",
   "execution_count": 22,
   "metadata": {},
   "outputs": [],
   "source": [
    "#generalized associativity applies as well as generalized commutativity if abelian\n",
    "#if a is an element of a semigroup, then a^n is the standard product of the binary function applied n times\n",
    "#note to self: create permutation elements\n",
    "class Semigroup(Set):#while inherits from sets, should overide adding elements as Semigroups are immutable\n",
    "    def __init__(self, bfun, elements):\n",
    "        super().__init__(elements)\n",
    "        if not self.issemigroup(bfun, elements):\n",
    "            print(\"error: not a semigroup\")\n",
    "        self.bfun = bfun #binary function that operates on elements\n",
    "        self.order = len(elements)\n",
    "    @staticmethod\n",
    "    def issemigroup(bfun, elements):\n",
    "        #to check associativity, it is necessary to brute force a(bc) = (ab)c given a,b,c are in elements\n",
    "        e = list(elements)\n",
    "        mod = len(elements)\n",
    "        for a in elements:\n",
    "            for b in elements:\n",
    "                for c in elements:\n",
    "                    if a == b and b == c:#assuming equality (__eq__) is defined\n",
    "                        continue\n",
    "                    #print(a,b,c, bfun(a, bfun(b, c)), bfun(bfun(a, b), c), bfun(a, bfun(b, c)) == bfun(bfun(a, b), c))\n",
    "                    if bfun(a, bfun(b, c)) != bfun(bfun(a, b), c):\n",
    "                        return False\n",
    "        return True\n",
    "    @staticmethod\n",
    "    def isabelian(bfun, elements):#checks for commutative property ab = ba for all a,b in elements\n",
    "        for a in elements:\n",
    "            for b in elements:\n",
    "                if bfun(a,b) != bfun(b,a):\n",
    "                    return False\n",
    "        return True\n",
    "    def ishomomorphicto(self, ufun, H):#checks unary homomorphism f:G -> such that f(a)fa(b) = f(ab) for all a,b in G(self)\n",
    "        #need to check that f:G->H will implement soon: injective -> monomorphism, surjective ->epimorphism\n",
    "        #bijetive -> isomorphism, homomorphic f: G -> G is endomorpism, isomorphism f:G -> G is automorphism\n",
    "        for a in self:\n",
    "            for b in self:#H.bfun since the group being mapped to may have a different binary function\n",
    "                if not H.bfun(ufun(a), ufun(b)) == ufun(self.bfun(a, b)):#can optimize if abelian\n",
    "                    return False\n",
    "        return True\n",
    "    def isinjectiveto(self, ufun, H):#one to one, easy to show false if order, cardinality,size of self > order of other group\n",
    "        ones = []#elements mapped to H\n",
    "        for one in self:\n",
    "            num = ufun(one)\n",
    "            if num in ones:#checks for instance of mapping elements to the same output\n",
    "                return False\n",
    "            else:\n",
    "                ones.append(num)\n",
    "        return True\n",
    "    def ismonomorphicto(self, ufun, H):# -> ker f = {e_H}\n",
    "        return self.ishomomorphicto(ufun,H) and self.isinjectiveto(ufun, H)\n",
    "    def issurjectiveto(self, ufun, H):#onto, for h in H, there exists g in G(self) such that f(g) = h\n",
    "        #G is domain f: G -> H, the image of G == Im f surjective -> H is subset F(G)\n",
    "        #easy to show false if there are not enough elements in G to cover H during the check\n",
    "        s = set()\n",
    "        for g in self:\n",
    "            num = ufun(g)\n",
    "            if num in H:\n",
    "                s.add(ufun(g))\n",
    "        if len(s) == H.order:\n",
    "            return True\n",
    "        else:\n",
    "            False\n",
    "    def isepimorphicto(self, ufun, H):\n",
    "        return self.ishomomorphicto(ufun,H) and self.issurjectiveto(ufun, H)\n",
    "    def isbijectiveto(self, ufun, H):\n",
    "        return isinjectiveto(ufun, H) and Issurjectiveto(ufun, H)\n",
    "    def isisomorphicto(self, ufun, H):#iff there exists an inverse function and the compositions ff^-1 = 1_G, f^-1f = 1_H\n",
    "        #automorphism if f:G -> G\n",
    "        return ishomomorphicto(ufun, H) and isbijectiveto(ufun, H)"
   ]
  },
  {
   "cell_type": "code",
   "execution_count": 4,
   "metadata": {},
   "outputs": [
    {
     "name": "stdout",
     "output_type": "stream",
     "text": [
      "0\n",
      "addfun True\n",
      "8\n",
      "powfun False\n"
     ]
    },
    {
     "data": {
      "text/plain": [
       "{0, 1, 2, 4, 7, 15}"
      ]
     },
     "execution_count": 4,
     "metadata": {},
     "output_type": "execute_result"
    }
   ],
   "source": [
    "addfun = lambda a, b : a + b\n",
    "print(addfun(0,0))\n",
    "stuff = {0,1,2,4,7,15}\n",
    "print(\"addfun\", Semigroup.issemigroup(addfun, stuff))\n",
    "powfun = lambda a, b : a ** b\n",
    "print(powfun(2,3))\n",
    "print(\"powfun\", Semigroup.issemigroup(powfun, stuff))\n",
    "nums = Semigroup(addfun, stuff)\n",
    "nums"
   ]
  },
  {
   "cell_type": "markdown",
   "metadata": {},
   "source": [
    "Identity in Monoid is unique\n",
    "a^0 = e"
   ]
  },
  {
   "cell_type": "code",
   "execution_count": 5,
   "metadata": {},
   "outputs": [],
   "source": [
    "class Monoid(Semigroup):\n",
    "    def __init__(self, bfun, elements):#check if set is a semigroup with 2 sided identity\n",
    "        super().__init__(bfun, elements)\n",
    "        self.e = self.identity = self.find_identity()\n",
    "        if self.identity == None:\n",
    "            print(\"error: not a monoid\")\n",
    "            \n",
    "    def find_identity(self):#checks for 2 sided identity\n",
    "        for e in self.elements:\n",
    "            if len([a for a in self.elements if self.bfun(a,e) == a and self.bfun(e,a) == a]) == len(self.elements):\n",
    "                return e\n",
    "        return None\n",
    "            "
   ]
  },
  {
   "cell_type": "code",
   "execution_count": 6,
   "metadata": {},
   "outputs": [
    {
     "data": {
      "text/plain": [
       "{0, 1, 2, 4, 7, 15}"
      ]
     },
     "execution_count": 6,
     "metadata": {},
     "output_type": "execute_result"
    }
   ],
   "source": [
    "Monoid(addfun, nums)"
   ]
  },
  {
   "cell_type": "markdown",
   "metadata": {},
   "source": [
    "A group G has,\n",
    "if c is in and cc = c, then c = e the identity.\n",
    "cancelation\n",
    "unique inverses\n",
    "(a^-1)^-1 = a\n",
    "(ab)^-1 = b^-1a^-1\n",
    "ax = b and ya = b have unique solutions x = a^-1b and ba^-1\n",
    "a^-n = (a^-1)^n\n",
    "\n",
    "a^ma^n = a^(m+n)\n",
    "(a^m)^n = a^mn\n",
    "in additive notation respectively\n",
    "ma + na = (m + n)a\n",
    "n(ma) = mna\n",
    "\n",
    "homomorphism of groups have:\n",
    "f:G -> H\n",
    "f(e_G) = e_H\n",
    "also f(a^-1) = f(a)^-1"
   ]
  },
  {
   "cell_type": "code",
   "execution_count": 20,
   "metadata": {},
   "outputs": [],
   "source": [
    "class Group(Monoid):\n",
    "    def __init__(self, bfun, elements):\n",
    "        super().__init__(bfun, elements)\n",
    "        self.inverses = self.find_inverses()\n",
    "        if len(self.inverses) != len(elements):\n",
    "            print(len(self.inverses), len(elements))\n",
    "            print(\"error:not a group\")\n",
    "    def find_inverses(self):#checks a^-1a = aa^1 = e for all a in elements, 2 sided inverse\n",
    "        container = self.elements.copy()\n",
    "        container.remove(self.e)\n",
    "        inverses = {self.e:self.e}#dictionary starting with e\n",
    "        for a in container:\n",
    "            for b in container:\n",
    "                if b in inverses:\n",
    "                    continue\n",
    "                #print(self.bfun(a,b),self.bfun(b,a))\n",
    "                if self.bfun(a,b) == self.e and  self.bfun(b,a) == self.e:\n",
    "                    #print(self.bfun(a,b),self.bfun(b,a))\n",
    "                    inverses[a] = b\n",
    "                    if a != b:\n",
    "                        inverses[b] = a\n",
    "        return inverses\n",
    "    def kernel(self, ufun, H): #unary f:G->H\n",
    "        return self.buildsubset(lambda g: ufun(g) == H.e)#returns subset filtered by f(g) == e\n",
    "    def idealof(self, other):'''ideal if any element in ideal in a binary function with an element in the group \n",
    "        results in an element in the ideal'''#work on later for rings\n",
    "        pass\n",
    "    def isSubgroupof():#under the same binary function, instantiating an instance comfirms a subset traditionally\n",
    "        #closure also suffics, not necessary rn\n",
    "        pass"
   ]
  },
  {
   "cell_type": "code",
   "execution_count": 14,
   "metadata": {
    "scrolled": true
   },
   "outputs": [
    {
     "name": "stdout",
     "output_type": "stream",
     "text": [
      "{0, 1, 2, 4, 7, 15, -15, -2, -7, -4, -1}\n"
     ]
    }
   ],
   "source": [
    "stuff = {0,1,2,4,7,15}\n",
    "multfun = lambda a,b: a*b\n",
    "#not_group = Group(addfun, stuff)\n",
    "#print(not_group)\n",
    "#stuff.update([1/x if x !=0 else 0 for x in stuff])\n",
    "stuff.update([-x if x !=0 else 0 for x in stuff])\n",
    "import decimal\n",
    "#decimal.getcontext().prec = 1000#would probably have to use fractions or rationals to wotrk with multiplication groups\n",
    "#stuff = set([decimal.Decimal(x)for x in stuff])\n",
    "#print(stuff)\n",
    "g = Group(addfun, stuff)\n",
    "print(g)"
   ]
  },
  {
   "cell_type": "markdown",
   "metadata": {},
   "source": [
    "I plan to add both equivalence relations and groups of permuations"
   ]
  }
 ],
 "metadata": {
  "kernelspec": {
   "display_name": "Python 3",
   "language": "python",
   "name": "python3"
  },
  "language_info": {
   "codemirror_mode": {
    "name": "ipython",
    "version": 3
   },
   "file_extension": ".py",
   "mimetype": "text/x-python",
   "name": "python",
   "nbconvert_exporter": "python",
   "pygments_lexer": "ipython3",
   "version": "3.8.5"
  }
 },
 "nbformat": 4,
 "nbformat_minor": 4
}
