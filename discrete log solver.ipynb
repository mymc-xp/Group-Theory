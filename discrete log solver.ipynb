{
 "cells": [
  {
   "cell_type": "markdown",
   "metadata": {},
   "source": [
    "Attempt at building algorith for efficiently solving discrete log problem\n",
    "firt I will write the brute force baby step giant step"
   ]
  },
  {
   "cell_type": "code",
   "execution_count": 1,
   "metadata": {},
   "outputs": [],
   "source": [
    "class CongruInt:#wrapper for integers that acts as class elements for a congruence\n",
    "    def __init__(self, val = 0, modulus = None):\n",
    "        self.modulus = modulus\n",
    "        self.set_val(val)\n",
    "    def __repr__(self):\n",
    "        return str(self.val)\n",
    "    def set_val(self, val):\n",
    "        if self.modulus == None:\n",
    "            self.val = int(val)\n",
    "        else:\n",
    "            self.val = int(val) % self.modulus\n",
    "    def __eq__(self, other):\n",
    "        if type(other) == int:\n",
    "            return self.val == other % self.modulus\n",
    "        elif type(other) == type(self):\n",
    "            return self.val == other.val and self.modulus == other.modulus\n",
    "        else:\n",
    "            return False\n",
    "    def __mul__(self, other):\n",
    "        if type(other) == int:\n",
    "            return CongruInt(self.val * other, self.modulus)\n",
    "        elif type(other) == type(self):\n",
    "            if self.modulus == other.modulus:\n",
    "                return CongruInt(self.val * other.val, self.modulus)\n",
    "            else:\n",
    "                print(\"error\")\n",
    "                return False\n",
    "        else:\n",
    "            return False\n",
    "    def __pow__(self, other):\n",
    "        #in some instances pow could indicate multiplication, so i may include a way to switch functionality\n",
    "        if type(other) == int:\n",
    "            return CongruInt(self.val ** other, self.modulus)\n",
    "        elif type(other) == type(self):\n",
    "            if self.modulus == other.modulus:\n",
    "                return CongruInt(self.val ** other.val, self.modulus)\n",
    "            else:\n",
    "                print(\"error\")\n",
    "                return False\n",
    "        else:\n",
    "            return False\n",
    "    def __add__(self, other):\n",
    "        if type(other) == int:\n",
    "            return CongruInt(self.val + other, self.modulus)\n",
    "        elif type(other) == type(self):\n",
    "            if self.modulus == other.modulus:\n",
    "                return CongruInt(self.val + other.val, self.modulus)\n",
    "            else:\n",
    "                print(\"error\")\n",
    "                return False\n",
    "        else:\n",
    "            return False\n",
    "    def __neg__(self):#this return additive inverse\n",
    "        return CongruInt(-self.val, self.modulus)\n",
    "    def inverse(self):#multiplicative\n",
    "        return [CongruInt(x) for x in range(self.modulus) if self*x == 1]\n"
   ]
  },
  {
   "cell_type": "code",
   "execution_count": 2,
   "metadata": {},
   "outputs": [],
   "source": [
    "def discrete_log(a, b, n):#find e such that a^e = b mod n a^e being the power from the addition operation, old code\n",
    "    #a*e is a stand in for a**e == a^e, in this context they are equivalent\n",
    "    a = CongruInt(a, n)\n",
    "    e = 1\n",
    "    s = a*e\n",
    "    while not (s == b):\n",
    "        e += 1\n",
    "        s = a*e\n",
    "    return e\n"
   ]
  },
  {
   "cell_type": "code",
   "execution_count": 33,
   "metadata": {},
   "outputs": [
    {
     "data": {
      "text/plain": [
       "6"
      ]
     },
     "execution_count": 33,
     "metadata": {},
     "output_type": "execute_result"
    }
   ],
   "source": [
    "discrete_log(3,7,11)"
   ]
  },
  {
   "cell_type": "code",
   "execution_count": 61,
   "metadata": {},
   "outputs": [],
   "source": [
    "import math\n",
    "#g is a cyclic group\n",
    "#baby step, giant step we want to find g^x = h\n",
    "#N = |sqrt(order(G))|\n",
    "def baby_step(order, bfun, g, h):#check g^n for N-1 iterations \n",
    "    #either returns an answer or initiates giant steps\n",
    "    pairs = dict()\n",
    "    gx = g\n",
    "    for x in range(1, math.ceil(math.sqrt(order))):\n",
    "        if gx == h:\n",
    "            return x\n",
    "        pairs[gx.val] = x\n",
    "        gx = bfun(gx, g)\n",
    "        print(g, gx)\n",
    "    return pairs\n",
    "def giant_step(order, bfun, pairs, g, h):\n",
    "    print(\"gs\")\n",
    "    N = math.ceil(math.sqrt(order))\n",
    "    gin = -g#getting to g^-N\n",
    "    for x in range(1, N):\n",
    "        gin = bfun(gin, -g)\n",
    "    print(\"gin\", gin)\n",
    "    step = h\n",
    "    for i in range(1, math.ceil(math.sqrt(order))):\n",
    "        if step.val in pairs:\n",
    "            print(\"ij\", i, pairs[step.val])\n",
    "            return (i - 1)*math.ceil(math.sqrt(order)) + (pairs[step.val])\n",
    "        step = bfun(step, gin)\n",
    "    print(\"Error\")\n",
    "    return None\n",
    "def bgdlp_solver(order, bfun, g, h):#baby giant dlp solver\n",
    "    x = baby_step(order, bfun, g, h)\n",
    "    if type(x) == int:\n",
    "        return x\n",
    "    else:\n",
    "        return giant_step(order, bfun, x, g, h)#in this case x is pairs"
   ]
  },
  {
   "cell_type": "code",
   "execution_count": 60,
   "metadata": {},
   "outputs": [
    {
     "name": "stdout",
     "output_type": "stream",
     "text": [
      "3 6\n",
      "3 9\n",
      "3 1\n",
      "gs\n",
      "gin 10\n",
      "ij 2 2\n",
      "10\n"
     ]
    }
   ],
   "source": [
    "g = CongruInt(3,11)\n",
    "h = CongruInt(7,11)\n",
    "order = g.modulus #11\n",
    "bfun = lambda a,b : a + b\n",
    "print(bgdlp_solver(order, bfun, g, h))\n"
   ]
  }
 ],
 "metadata": {
  "kernelspec": {
   "display_name": "Python 3",
   "language": "python",
   "name": "python3"
  },
  "language_info": {
   "codemirror_mode": {
    "name": "ipython",
    "version": 3
   },
   "file_extension": ".py",
   "mimetype": "text/x-python",
   "name": "python",
   "nbconvert_exporter": "python",
   "pygments_lexer": "ipython3",
   "version": "3.8.5"
  }
 },
 "nbformat": 4,
 "nbformat_minor": 4
}
