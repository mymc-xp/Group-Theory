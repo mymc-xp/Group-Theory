{
 "cells": [
  {
   "cell_type": "markdown",
   "metadata": {},
   "source": [
    "Attempt at building algorith for efficiently solving discrete log problem\n",
    "firt I will write the brute force baby step giant step"
   ]
  },
  {
   "cell_type": "code",
   "execution_count": null,
   "metadata": {},
   "outputs": [],
   "source": [
    "class CongruInt:#wrapper for integers that acts as class elements for a congruence\n",
    "    def __init__(self, val = 0, modulus = None):\n",
    "        self.modulus = modulus\n",
    "        self.set_val(val)\n",
    "    def __repr__(self):\n",
    "        return str(self.val)\n",
    "    def set_val(self, val):\n",
    "        if self.modulus == None:\n",
    "            self.val = int(val)\n",
    "        else:\n",
    "            self.val = int(val) % self.modulus\n",
    "    def __eq__(self, other):\n",
    "        if type(other) == int:\n",
    "            return self.val == other % self.modulus\n",
    "        elif type(other) == type(self):\n",
    "            return self.val == other.val and self.modulus == other.modulus\n",
    "        else:\n",
    "            return False\n",
    "    def __mul__(self, other):\n",
    "        if type(other) == int:\n",
    "            return CongruInt(self.val * other, self.modulus)\n",
    "        elif type(other) == type(self):\n",
    "            if self.modulus == other.modulus:\n",
    "                return CongruInt(self.val * other.val, self.modulus)\n",
    "            else:\n",
    "                print(\"error\")\n",
    "                return False\n",
    "        else:\n",
    "            return False\n",
    "    def __pow__(self, other):\n",
    "        #in some instances pow could indicate multiplication, so i may include a way to switch functionality\n",
    "        if type(other) == int:\n",
    "            return CongruInt(self.val ** other, self.modulus)\n",
    "        elif type(other) == type(self):\n",
    "            if self.modulus == other.modulus:\n",
    "                return CongruInt(self.val ** other.val, self.modulus)\n",
    "            else:\n",
    "                print(\"error\")\n",
    "                return False\n",
    "        else:\n",
    "            return False\n",
    "    def __add__(self, other):\n",
    "        if type(other) == int:\n",
    "            return CongruInt(self.val + other, self.modulus)\n",
    "        elif type(other) == type(self):\n",
    "            if self.modulus == other.modulus:\n",
    "                return CongruInt(self.val + other.val, self.modulus)\n",
    "            else:\n",
    "                print(\"error\")\n",
    "                return False\n",
    "        else:\n",
    "            return False\n",
    "    def __neg__(self):\n",
    "        return CongruInt(-self.val, self.modulus)\n",
    "    def inverse(self):#multiplicative\n",
    "        return [CongruInt(x) for x in range(self.modulus) if self*x == 1]\n"
   ]
  },
  {
   "cell_type": "code",
   "execution_count": null,
   "metadata": {},
   "outputs": [],
   "source": [
    "def discrete_log(a, b, n):#find e such that a^e = b mod n a^e being the power from the addition operation, old code\n",
    "    #a*e is a stand in for a**e == a^e, in this context they are equivalent\n",
    "    a = CongruInt(a, n)\n",
    "    e = 1\n",
    "    s = a*e\n",
    "    while not (s == b):\n",
    "        e += 1\n",
    "        s = a*e\n",
    "    return e"
   ]
  },
  {
   "cell_type": "code",
   "execution_count": null,
   "metadata": {},
   "outputs": [],
   "source": [
    "import math\n",
    "#g is a cyclic group\n",
    "#baby step, giant step we want to find g^x = h\n",
    "#N = |sqrt(order(G))|\n",
    "def baby_step(order,g,h):#check g^n for N-1 iterations \n",
    "#either returns an answer or initiates giant steps\n",
    "    for x in range(math.ciel(math.sqrt(order))):\n",
    "        if g**x == h:\n",
    "#assuming __pow__ (**) is defined for the elements as repetion of the abstract binary operation *\n",
    "            return x\n",
    "    return None\n",
    "def giant_step(order, g, h):\n",
    "    m = g**((order - 2)*math.ciel(math.sqrt(order)))\n",
    "    pass\n",
    "def bgdlp_solver(order, g, h):\n",
    "    #if baby_step(order, g, h) == None"
   ]
  }
 ],
 "metadata": {
  "kernelspec": {
   "display_name": "Python 3",
   "language": "python",
   "name": "python3"
  },
  "language_info": {
   "codemirror_mode": {
    "name": "ipython",
    "version": 3
   },
   "file_extension": ".py",
   "mimetype": "text/x-python",
   "name": "python",
   "nbconvert_exporter": "python",
   "pygments_lexer": "ipython3",
   "version": "3.8.5"
  }
 },
 "nbformat": 4,
 "nbformat_minor": 4
}
